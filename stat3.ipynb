{
 "cells": [
  {
   "cell_type": "markdown",
   "metadata": {},
   "source": [
    "Q1. The three measures of central tendency are:\n",
    "\n",
    "Mean: The arithmetic average of a set of values. It is calculated by summing all the values and then dividing by the number of values in the dataset.\n",
    "Median: The middle value in a dataset when it is arranged in ascending or descending order. If the dataset has an even number of values, the median is the average of the two middle values.\n",
    "Mode: The value that appears most frequently in a dataset."
   ]
  },
  {
   "cell_type": "markdown",
   "metadata": {},
   "source": [
    "Q2. The mean, median, and mode are used to describe the central tendency or the typical value around which the data tends to cluster:\n",
    "\n",
    "Mean: It represents the balance point of the data and is sensitive to outliers. It is suitable for interval and ratio data.\n",
    "Median: It is the middle value and is not influenced by extreme values (outliers), making it more appropriate for skewed distributions.\n",
    "Mode: It identifies the most frequent value and is useful for categorical data or discrete variables with repeating values."
   ]
  },
  {
   "cell_type": "markdown",
   "metadata": {},
   "source": [
    "Q3. For the given height data: [178, 177, 176, 177, 178.2, 178, 175, 179, 180, 175, 178.9, 176.2, 177, 172.5, 178, 176.5]\n",
    "\n",
    "Mean: (sum of all values) / (number of values) = (2828.3) / (16) ≈ 176.76875\n",
    "Median: Arrange the data in ascending order: [172.5, 175, 175, 176, 176, 176.2, 177, 177, 178, 178, 178, 178, 178.2, 179, 180]. The middle values are 176 and 176.2, so the median is (176 + 176.2) / 2 ≈ 176.1\n",
    "Mode: The mode is 178 since it appears most frequently in the dataset."
   ]
  },
  {
   "cell_type": "code",
   "execution_count": 1,
   "metadata": {},
   "outputs": [
    {
     "name": "stdout",
     "output_type": "stream",
     "text": [
      "Standard Deviation: 1.8472389305844188\n"
     ]
    }
   ],
   "source": [
    "#Q4\n",
    "import statistics\n",
    "\n",
    "data = [178, 177, 176, 177, 178.2, 178, 175, 179, 180, 175, 178.9, 176.2, 177, 172.5, 178, 176.5]\n",
    "\n",
    "standard_deviation = statistics.stdev(data)\n",
    "\n",
    "print(\"Standard Deviation:\", standard_deviation)"
   ]
  },
  {
   "cell_type": "markdown",
   "metadata": {},
   "source": [
    "Measures of dispersion such as range, variance, and standard deviation are used to quantify the spread or variability of a dataset:\n",
    "\n",
    "Range: It is the difference between the maximum and minimum values in the dataset. It gives a rough estimate of the spread but is sensitive to outliers.\n",
    "Variance: It measures how far each data point in the set is from the mean. A high variance indicates greater dispersion.\n",
    "Standard Deviation: It is the square root of the variance and provides a measure of dispersion similar to the mean. It is widely used due to its unit being in the same scale as the data.\n",
    "Example: Consider two datasets: Dataset A: [10, 20, 30, 40, 50] and Dataset B: [10, 20, 30, 40, 200]. Both datasets have the same mean (30) but different spreads. Dataset B has a larger standard deviation (72.11) compared to Dataset A (15.81), indicating greater variability."
   ]
  },
  {
   "cell_type": "markdown",
   "metadata": {},
   "source": [
    "Q6. A Venn diagram is a graphical representation used to show the relationships between different sets or groups. It consists of overlapping circles or ellipses, with each circle representing a set, and the overlapping areas indicating the elements shared between the sets."
   ]
  },
  {
   "cell_type": "markdown",
   "metadata": {},
   "source": [
    "Q7. For the two given sets A = (2, 3, 4, 5, 6, 7) & B = (0, 2, 6, 8, 10):\n",
    "(i) A ∩ B (intersection of A and B) = {2, 6}\n",
    "(ii) A ⋃ B (union of A and B) = {0, 2, 3, 4, 5, 6, 7, 8, 10}\n"
   ]
  },
  {
   "cell_type": "markdown",
   "metadata": {},
   "source": [
    "Q8. Skewness in data refers to the asymmetry of the data distribution. If a dataset is skewed, it means that the data points are not symmetrically distributed around the mean. Skewness can be of two types:\n",
    "\n",
    "Positive Skewness (Right-skewed): The right tail of the distribution is longer or stretched out, and the majority of the data points are concentrated on the left side.\n",
    "Negative Skewness (Left-skewed): The left tail of the distribution is longer or stretched out, and the majority of the data points are concentrated on the right side."
   ]
  },
  {
   "cell_type": "markdown",
   "metadata": {},
   "source": [
    "Q9. If a data is right-skewed:\n",
    "\n",
    "The mean will be greater than the median.\n",
    "The median will be closer to the lower end of the data distribution (toward the smaller values).\n",
    "The tail of the distribution extends towards the larger values, causing the mean to be pulled in that direction."
   ]
  },
  {
   "cell_type": "markdown",
   "metadata": {},
   "source": [
    "Q10. Difference between covariance and correlation and their use in statistical analysis:\n",
    "\n",
    "Covariance: It measures the degree to which two variables change together. A positive covariance indicates that the variables increase or decrease together, while a negative covariance indicates an inverse relationship. However, it does not provide information about the strength of the relationship or whether the variables are on the same scale.\n",
    "Correlation: It standardizes the covariance by dividing it by the product of the standard deviations of the two variables. This results in a correlation coefficient, which ranges from -1 to 1. A correlation of 1 indicates a perfect positive relationship, -1 indicates a perfect negative relationship, and 0 indicates no linear relationship. Correlation is useful in determining the strength and direction of the relationship between variables, regardless of their scale.\n",
    "Statistical Analysis: Covariance and correlation are widely used in various fields, such as finance, economics, and social sciences, to understand the relationships between different variables and make informed decisions."
   ]
  },
  {
   "cell_type": "markdown",
   "metadata": {},
   "source": [
    "Q11. The formula for calculating the sample mean (x̄) is the sum of all the data points (xᵢ) divided by the number of data points (n):\n",
    "x̄ = (Σxᵢ) / n\n",
    "\n",
    "Example Calculation:\n",
    "Consider a dataset: [10, 15, 20, 25, 30]\n",
    "x̄ = (10 + 15 + 20 + 25 + 30) / 5\n",
    "x̄ = 100 / 5\n",
    "x̄ = 20\n",
    "\n",
    "The sample mean for this dataset is 20."
   ]
  },
  {
   "cell_type": "markdown",
   "metadata": {},
   "source": [
    "Q12. For a normal distribution data:\n",
    "\n",
    "The mean (μ) is located at the center of the distribution.\n",
    "The median is also located at the center, and it is equal to the mean in a perfectly symmetrical normal distribution.\n",
    "The mode is also located at the center, and it is also equal to the mean in a perfectly symmetrical normal distribution.\n",
    "In a normal distribution, the measures of central tendency (mean, median, and mode) are all the same value when the data is perfectly symmetrical."
   ]
  },
  {
   "cell_type": "markdown",
   "metadata": {},
   "source": [
    "Q13. The difference between covariance and correlation:\n",
    "\n",
    "Covariance measures the direction and strength of the relationship between two variables. It can take any value, positive or negative, depending on whether the variables move together or in opposite directions. However, the magnitude of covariance depends on the scale of the variables, making it difficult to interpret the strength of the relationship.\n",
    "Correlation standardizes the covariance by dividing it by the product of the standard deviations of the two variables. This results in a correlation coefficient that ranges from -1 to 1. It provides a standardized measure of the strength and direction of the linear relationship between two variables, regardless of their scale.\n"
   ]
  },
  {
   "cell_type": "markdown",
   "metadata": {},
   "source": [
    "Q14. Outliers can significantly affect measures of central tendency and dispersion:\n",
    "\n",
    "Measures of Central Tendency: Outliers can pull the mean towards their extreme values. If there are outliers on the higher end, the mean will increase, and if there are outliers on the lower end, the mean will decrease. However, the median and mode are not affected by outliers.\n",
    "Measures of Dispersion: Outliers can increase the range, variance, and standard deviation. Since these measures involve the distance of each data point from the mean, extreme values have a substantial impact on dispersion measures.\n"
   ]
  },
  {
   "cell_type": "markdown",
   "metadata": {},
   "source": []
  }
 ],
 "metadata": {
  "kernelspec": {
   "display_name": "Python 3",
   "language": "python",
   "name": "python3"
  },
  "language_info": {
   "codemirror_mode": {
    "name": "ipython",
    "version": 3
   },
   "file_extension": ".py",
   "mimetype": "text/x-python",
   "name": "python",
   "nbconvert_exporter": "python",
   "pygments_lexer": "ipython3",
   "version": "3.11.4"
  },
  "orig_nbformat": 4
 },
 "nbformat": 4,
 "nbformat_minor": 2
}
