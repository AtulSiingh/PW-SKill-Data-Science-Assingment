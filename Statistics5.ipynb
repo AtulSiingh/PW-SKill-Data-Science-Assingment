{
 "cells": [
  {
   "cell_type": "markdown",
   "metadata": {},
   "source": [
    "### Q1. Calculate the 95% confidence interval for a sample of data with a mean of 50 and a standard deviation of 5 using Python. Interpret the results.\n",
    "\n"
   ]
  },
  {
   "cell_type": "code",
   "execution_count": 1,
   "metadata": {},
   "outputs": [
    {
     "name": "stdout",
     "output_type": "stream",
     "text": [
      "The 95% confidence interval is (49.00789152424566, 50.99210847575434)\n"
     ]
    }
   ],
   "source": [
    "import scipy.stats as stats\n",
    "import numpy as np\n",
    "sample_mean = 50\n",
    "sample_std = 5\n",
    "sample_size = 100 # assuming a sample size of 100 for illustration purposes\n",
    "\n",
    "# Calculate the 95% confidence interval using the t-distribution\n",
    "ci = stats.t.interval(0.95, df=sample_size-1, loc=sample_mean, scale=sample_std/np.sqrt(sample_size))\n",
    "\n",
    "# Print the results\n",
    "print(f\"The 95% confidence interval is {ci}\")"
   ]
  },
  {
   "cell_type": "markdown",
   "metadata": {},
   "source": [
    "### Q2. Conduct a chi-square goodness of fit test to determine if the distribution of colors of M&Ms in a bag matches the expected distribution of 20% blue, 20% orange, 20% green, 10% yellow, 10% red, and 20% brown. Use Python to perform the test with a significance level of 0.05."
   ]
  },
  {
   "cell_type": "code",
   "execution_count": null,
   "metadata": {},
   "outputs": [],
   "source": [
    "import numpy as np\n",
    "import scipy.stats as stats\n",
    "\n",
    "obs=np.array([40,45,15,10,16])\n",
    "exp=np.array([0.2,0.2,0.2,0.1,0.2])\n",
    "\n",
    "stat "
   ]
  },
  {
   "cell_type": "code",
   "execution_count": 2,
   "metadata": {},
   "outputs": [
    {
     "name": "stdout",
     "output_type": "stream",
     "text": [
      "\n",
      "Expected Data:\n",
      "[[15. 20.]\n",
      " [15. 20.]\n",
      " [15. 20.]]\n",
      "\n",
      "Chi-square statistic: 5.833333333333334\n",
      "P-value: 0.05411376622282158\n",
      "The results are not statistically significant, and we fail to reject the null hypothesis.\n"
     ]
    }
   ],
   "source": [
    "import numpy as np\n",
    "from scipy.stats import chi2_contingency\n",
    "\n",
    "# Create the observed contingency table\n",
    "observed_data = np.array([[20, 15],\n",
    "                          [10, 25],\n",
    "                          [15, 20]])\n",
    "\n",
    "# Perform chi-square test and obtain expected values\n",
    "chi2_stat, p_value, _, expected_data = chi2_contingency(observed_data)\n",
    "\n",
    "print(\"\\nExpected Data:\")\n",
    "print(expected_data)\n",
    "\n",
    "# Print the results\n",
    "print(\"\\nChi-square statistic:\", chi2_stat)\n",
    "print(\"P-value:\", p_value)\n",
    "\n",
    "# Interpret the results\n",
    "alpha = 0.05  # significance level\n",
    "if p_value < alpha:\n",
    "    print(\"The results are statistically significant, and we reject the null hypothesis.\")\n",
    "else:\n",
    "    print(\"The results are not statistically significant, and we fail to reject the null hypothesis.\")\n"
   ]
  },
  {
   "cell_type": "code",
   "execution_count": null,
   "metadata": {},
   "outputs": [],
   "source": []
  }
 ],
 "metadata": {
  "kernelspec": {
   "display_name": "Python 3",
   "language": "python",
   "name": "python3"
  },
  "language_info": {
   "codemirror_mode": {
    "name": "ipython",
    "version": 3
   },
   "file_extension": ".py",
   "mimetype": "text/x-python",
   "name": "python",
   "nbconvert_exporter": "python",
   "pygments_lexer": "ipython3",
   "version": "3.11.4"
  }
 },
 "nbformat": 4,
 "nbformat_minor": 2
}
