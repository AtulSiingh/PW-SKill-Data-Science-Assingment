{
 "cells": [
  {
   "cell_type": "markdown",
   "metadata": {},
   "source": [
    "Q1: Estimation Statistics involves using sample data to make inferences about population parameters. Point estimate is a single value used to approximate a population parameter, while interval estimate provides a range within which the parameter is likely to fall."
   ]
  },
  {
   "cell_type": "code",
   "execution_count": 1,
   "metadata": {},
   "outputs": [],
   "source": [
    "def estimate_population_mean(sample_mean, sample_std, sample_size):\n",
    "    margin_of_error = 1.96 * (sample_std / (sample_size**0.5))\n",
    "    confidence_interval = (sample_mean - margin_of_error, sample_mean + margin_of_error)\n",
    "    return confidence_interval\n"
   ]
  },
  {
   "cell_type": "markdown",
   "metadata": {},
   "source": [
    "Q3: Hypothesis testing is a statistical method to make inferences about a population based on a sample. It's used to evaluate the validity of a claim or hypothesis about a population parameter. Importance lies in making decisions based on data and drawing conclusions about populations.\n",
    "\n",
    "Q4: Hypothesis: The average weight of male college students is greater than the average weight of female college students."
   ]
  },
  {
   "cell_type": "code",
   "execution_count": 3,
   "metadata": {},
   "outputs": [],
   "source": [
    "# Q5: Python script for a hypothesis test on the difference between two population means:\n",
    "import scipy.stats as stats\n",
    "\n",
    "def two_sample_t_test(sample1, sample2):\n",
    "    t_stat, p_value = stats.ttest_ind(sample1, sample2)\n",
    "    return t_stat, p_value\n"
   ]
  },
  {
   "cell_type": "markdown",
   "metadata": {},
   "source": [
    "Q6: Null hypothesis (H0) states no effect or no difference, while alternative hypothesis (H1) states an effect or a difference. Examples:\n",
    "\n",
    "H0: The mean height of plants is 10 cm. H1: The mean height is not 10 cm.\n",
    "H0: There is no difference in test scores between groups. H1: There is a significant difference.\n",
    "Q7: Steps in hypothesis testing:\n",
    "\n",
    "Formulate hypotheses (H0 and H1).\n",
    "Choose significance level (α).\n",
    "Collect and analyze data.\n",
    "Compute test statistic and p-value.\n",
    "Make a decision: reject H0 if p-value < α, otherwise fail to reject H0.\n",
    "Draw conclusions and interpret results.\n",
    "Q8: p-value is the probability of obtaining results as extreme as observed (or more extreme) under the assumption that the null hypothesis is true. A small p-value suggests evidence against the null hypothesis.\n"
   ]
  },
  {
   "cell_type": "code",
   "execution_count": null,
   "metadata": {},
   "outputs": [],
   "source": [
    "# Q9: Generating a Student's t-distribution plot in Python:\n",
    "import matplotlib.pyplot as plt\n",
    "import numpy as np\n",
    "\n",
    "degrees_of_freedom = 10\n",
    "x = np.linspace(-3, 3, 1000)\n",
    "y = stats.t.pdf(x, df=degrees_of_freedom)\n",
    "\n",
    "plt.plot(x, y, label=f't-distribution (df={degrees_of_freedom})')\n",
    "plt.legend()\n",
    "plt.title(\"Student's t-Distribution\")\n",
    "plt.show()\n"
   ]
  },
  {
   "cell_type": "code",
   "execution_count": 4,
   "metadata": {},
   "outputs": [
    {
     "name": "stdout",
     "output_type": "stream",
     "text": [
      "(-1.0, 0.34659350708733416)\n"
     ]
    }
   ],
   "source": [
    "def two_sample_t_test(sample1, sample2):\n",
    "    t_stat, p_value = stats.ttest_ind(sample1, sample2)\n",
    "    return t_stat, p_value\n",
    "\n",
    "# Example usage:\n",
    "sample1 = [1, 2, 3, 4, 5]\n",
    "sample2 = [2, 3, 4, 5, 6]\n",
    "result = two_sample_t_test(sample1, sample2)\n",
    "print(result)\n"
   ]
  },
  {
   "cell_type": "markdown",
   "metadata": {},
   "source": [
    "Q11: Student’s t distribution is used when sample sizes are small, and the population standard deviation is unknown. It's used for inference about the mean of a normally distributed population.\n",
    "\n",
    "Q12: The t-statistic formula is (X‾ - μ) / (s / √n),\n",
    "¯xis the sample mean, \n",
    "μ is the population mean, \n",
    "s is the sample standard deviation, and \n",
    "n is the sample size. The t-statistic measures how many standard errors the sample mean is from the hypothesized population mean."
   ]
  },
  {
   "cell_type": "markdown",
   "metadata": {},
   "source": [
    "Q13-\n",
    "To estimate the population mean revenue with a 95% confidence interval, we can use the following formula:\n",
    "\n",
    "Confidence Interval = sample mean ± margin of error\n",
    "\n",
    "where the margin of error is given by:\n",
    "\n",
    "Margin of Error = critical value * standard error\n",
    "\n",
    "The standard error is the standard deviation of the sample divided by the square root of the sample size:\n",
    "\n",
    "Standard Error = standard deviation / sqrt(sample size)\n",
    "\n",
    "Substituting the values given in the problem statement, we get:\n",
    "\n",
    "Standard Error = 50 / sqrt(50) = 7.07\n",
    "Margin of Error = 1.96 * 7.07 = 13.85\n",
    "\n",
    "Therefore, the 95% confidence interval for the population mean revenue is:\n",
    "\n",
    "500 ± 13.85, or (486.15, 513.85)\n",
    "\n",
    "We can be 95% confident that the true population mean revenue falls within this interval."
   ]
  },
  {
   "cell_type": "markdown",
   "metadata": {},
   "source": [
    "Q14-The following values are given in the question:\n",
    "\n",
    "Population Mean = 10\n",
    "Sample Size = n = 100\n",
    "Sample Mean = 8\n",
    "Standard Deviation = 3\n",
    "Significance Level = 0.05\n",
    "Confidence Interval = 0.95\n",
    "\n",
    "My null and alternate hypothesis are as follows:\n",
    "\n",
    "Null Hypothesis = H0 => Population Mean = 10\n",
    "Alternate Hypothesis = H1 => Population Mean != 10\n",
    "\n",
    "From utilizing z-table i obgtained values for z-score:\n",
    "\n",
    "z-score = ± 1.96\n",
    "\n",
    "Then I utilized the follwing z-test formula:\n",
    "z = (x-μ)/σ=-0.66\n",
    "\n"
   ]
  },
  {
   "cell_type": "markdown",
   "metadata": {},
   "source": [
    "Q15-\n",
    "The following values are given in the question:\n",
    "\n",
    "Population Mean = 5\n",
    "Sample Size = n = 25\n",
    "Sample Mean = 4.8\n",
    "Standard Deviation = 0.5\n",
    "Significance Level = 0.01\n",
    "Confidence Interval = 0.99\n",
    "\n",
    "My null and alternate hypothesis are as follows:\n",
    "\n",
    "Null Hypothesis = H0 => Population Mean = 5\n",
    "Alternate Hypothesis = H1 => Population Mean < 5\n",
    "\n",
    "Then I utilized the follwing z-test formula:\n",
    "z=-2\n",
    "z-score=0.02275\n",
    "p-value=0.02275\n",
    "0.02275<0.01\n",
    "False\n"
   ]
  },
  {
   "cell_type": "markdown",
   "metadata": {},
   "source": [
    "Q16-\n",
    "My null and alternate hypothesis are as follows:\n",
    "\n",
    "Null Hypothesis = H0 => Population Mean of Group 1 = Population Mean of Group 2\n",
    "Alternate Hypothesis = H1 => Population Mean of Group 1 != Population Mean of Group 2\n",
    "\n",
    "Then I utilized the follwing two sample T-test formula:\n",
    "t=2.37\n",
    "degree of freedom=68\n",
    "signifiance value=0.01\n",
    "t=-+2.638"
   ]
  },
  {
   "cell_type": "markdown",
   "metadata": {},
   "source": [
    "Q17-\n",
    "To estimate the population mean with a 99% confidence interval, we can use the following formula:\n",
    "\n",
    "CI = X̄ ± z*(σ/√n)\n",
    "\n",
    "Where:\n",
    "\n",
    "X̄ = sample mean (4)\n",
    "z = z-score corresponding to the confidence level (99%)\n",
    "σ = population standard deviation (1.5)\n",
    "n = sample size (50)\n",
    "\n",
    "To find the z-score, we can use a standard normal distribution table. For a 99% confidence level, the z-score is\n",
    "\n",
    "z-score = 2.576.\n",
    "\n",
    "Plugging in the values, we get:\n",
    "\n",
    "CI = 4 ± 2.576*(1.5/√50)\n",
    "CI = 4 ± 0.665\n",
    "\n",
    "Therefore, the 99% confidence interval for the population mean of the number of ads watched by viewers during a TV program is (3.335, 4.665). We are 99% confident that the true population mean falls within this interval."
   ]
  }
 ],
 "metadata": {
  "kernelspec": {
   "display_name": "Python 3",
   "language": "python",
   "name": "python3"
  },
  "language_info": {
   "codemirror_mode": {
    "name": "ipython",
    "version": 3
   },
   "file_extension": ".py",
   "mimetype": "text/x-python",
   "name": "python",
   "nbconvert_exporter": "python",
   "pygments_lexer": "ipython3",
   "version": "3.11.4"
  }
 },
 "nbformat": 4,
 "nbformat_minor": 2
}
