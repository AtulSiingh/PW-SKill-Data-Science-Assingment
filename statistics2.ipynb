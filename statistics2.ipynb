{
 "cells": [
  {
   "cell_type": "markdown",
   "metadata": {},
   "source": [
    "Q1: The Probability Mass Function (PMF) is used for discrete random variables and gives the probability of each possible outcome. For example, in a fair six-sided die, the PMF assigns a probability of 1/6 to each face.\n",
    "\n",
    "The Probability Density Function (PDF) is for continuous random variables and represents the likelihood of a variable taking on a specific value. An example is the normal distribution where the PDF describes the probability of observing a particular value.\n",
    "\n",
    "Q2: The Cumulative Density Function (CDF) gives the probability that a random variable takes on a value less than or equal to a specific point. It's the integral of the PDF or the sum of the PMF. CDFs are used to determine probabilities and percentiles.\n",
    "\n",
    "Example: For a standard normal distribution, the CDF at z = 1.96 is approximately 0.975, meaning there's a 97.5% chance that a randomly selected value is less than 1.96.\n",
    "\n",
    "Q3: Normal distribution might be used in situations like IQ scores, height measurements, or errors in measurements. The mean (μ) represents the central tendency, and the standard deviation (σ) controls the spread or variability of the distribution.\n",
    "\n",
    "Q4: The Normal Distribution is crucial in statistics due to the Central Limit Theorem, making it a foundation for many statistical methods. Real-life examples include height distribution in a population, blood pressure measurements, and exam scores.\n",
    "\n",
    "Q5: Bernoulli Distribution models a single trial with two outcomes, usually labeled as success (1) or failure (0). Example: Tossing a coin—success for heads (1), failure for tails (0). The Binomial Distribution is an extension for multiple independent Bernoulli trials.\n",
    "\n",
    "Q6: Using the z-score formula: \n",
    "Z=60-50/10=1\n",
    "Looking up the z-score in a standard normal distribution table, the probability is around 0.8413. So, there's an 84.13% chance that a randomly selected observation will be greater than 60.\n",
    "\n",
    "Q7: Uniform Distribution is when all values in a range are equally likely. Example: Rolling a fair six-sided die—each number has a probability of 1/6.\n",
    "\n",
    "Q8: The z-score measures how many standard deviations a data point is from the mean. It's important for standardizing and comparing values from different normal distributions.\n",
    "\n",
    "Q9: The Central Limit Theorem states that the distribution of the sum (or average) of a large number of independent, identically distributed random variables approaches a normal distribution, regardless of the original distribution's shape.\n",
    "\n",
    "Q10: Assumptions of the Central Limit Theorem:\n",
    "\n",
    "Random Sampling: Data is collected randomly.\n",
    "Independence: Each observation is independent of others.\n",
    "Sample Size: The larger, the better. Typically, \n",
    "n≥30 is considered sufficient for the CLT to hold."
   ]
  }
 ],
 "metadata": {
  "language_info": {
   "name": "python"
  }
 },
 "nbformat": 4,
 "nbformat_minor": 2
}
