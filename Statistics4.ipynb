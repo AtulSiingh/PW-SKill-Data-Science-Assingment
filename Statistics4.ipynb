{
 "cells": [
  {
   "cell_type": "markdown",
   "metadata": {},
   "source": [
    "### Q1: What is the difference between a t-test and a z-test? Provide an example scenario where you would\n",
    "### use each type of test."
   ]
  },
  {
   "cell_type": "markdown",
   "metadata": {},
   "source": [
    "Z-test:\n",
    "The z-test is used when you know the population standard deviation and are working with a large sample size (typically n > 30). It's often used in scenarios where you are comparing a sample mean to a known population mean.\n",
    "\n",
    "Example Scenario for Z-test:\n",
    "Let's say you work for a company that produces light bulbs, and the average lifespan of the bulbs is known to be 1000 hours with a standard deviation of 50 hours. You randomly select a sample of 50 light bulbs from a recent production batch and want to test if the mean lifespan of this batch is significantly different from the known average of 1000 hours.\n",
    "\n",
    "T-test:\n",
    "The t-test is used when you don't know the population standard deviation and are working with a small sample size (typically n < 30). It's more commonly used in real-world scenarios because knowing the population standard deviation is often impractical.\n",
    "\n",
    "Example Scenario for T-test:\n",
    "Let's say you are a researcher studying the effect of a new drug on a small group of patients (e.g., 15 patients). You measure a certain health parameter before and after administering the drug and want to determine if there is a significant difference in the means of the two groups.\n",
    "\n",
    "In both cases, the goal is to assess whether any observed differences are likely due to chance or if they are statistically significant. The choice between a t-test and a z-test depends on the characteristics of your data and the assumptions you can make about the population."
   ]
  },
  {
   "cell_type": "markdown",
   "metadata": {},
   "source": [
    "Q2: Differentiate between one-tailed and two-tailed tests.\n"
   ]
  },
  {
   "cell_type": "markdown",
   "metadata": {},
   "source": [
    " One-tailed vs. Two-tailed tests:\n",
    "The distinction between one-tailed and two-tailed tests lies in the directionality of the hypothesis.\n",
    "\n",
    "In a one-tailed test, you are interested in only one direction of the effect (either greater than or less than). This is used when you have a specific hypothesis about the direction of the relationship.\n",
    "\n",
    "In a two-tailed test, you are interested in both directions of the effect. This is used when you want to determine if there is a significant difference but don't have a specific hypothesis about the direction."
   ]
  },
  {
   "cell_type": "markdown",
   "metadata": {},
   "source": [
    "### Q3: Explain the concept of Type 1 and Type 2 errors in hypothesis testing. Provide an example scenario for\n",
    "### each type of error.\n",
    "\n",
    "Type 1 error (False positive) Rejecting a true null hypothesis. it's lilke a flse alarm.\n",
    " example: Conducting that the new drug is effective when it is actually has no effect.\n",
    "Type 2 error (Flase negative)Faling to reject a flse null hypothesis. it's like missing ans actual \n",
    "effect.\n",
    "concluding that the new drug has no effect when it actually does ."
   ]
  },
  {
   "cell_type": "markdown",
   "metadata": {},
   "source": [
    "\n",
    "### Q4: Explain Bayes's theorem with an example.\n",
    "    Bayes theorem is mathematical formula for updating probalities based on new evidence. it's particularly \n",
    "    useful in conditional probability situations.\n",
    "     P(A/B)=(p(B/A)*P(A))/P(B)\n",
    "\n",
    " ### Q5: What is a confidence interval? How to calculate the confidence interval, explain with an example.\n",
    "A confidence interval is a range of values used to estimate the true parameter of a population. \n",
    "It provides a level of confidence about where the true value is likely to fall.\n",
    "\n",
    "Example Calculation:\n",
    "If you calculate a 95% confidence interval for the average height of a population and obtain a range of 160 to 170 cm, \n",
    "it means you are 95% confident that the true average height is between these two values\n",
    "\n",
    "### Q6. Use Bayes' Theorem to calculate the probability of an event occurring given prior knowledge of the\n",
    "event's probability and new evidence. Provide a sample problem and solution.\n",
    "  Suppose a new medical test has been developed to detect a certain disease, which affects 1% of the population. \n",
    "  The test has a false positive rate of 5%, meaning that 5% of the time, a healthy person will test positive for the disease. \n",
    "  The test also has a false negative rate of 10%, meaning that 10% of the time, a person with the disease will test negative. Suppose a \n",
    "  person takes the test and receives a positive result. What is the probability that the person actually has the disease?\n",
    "\n",
    "Let's define some terms first:\n",
    "\n",
    "A: the event that the person has the disease B: the event that the person tests positive for the disease We want to find P(A|B), \n",
    "the probability that the person has the disease given a positive test result. We can use Bayes' theorem to calculate this as follows:\n",
    "\n",
    "P(A|B) = P(B|A) * P(A) / P(B)\n",
    "\n",
    "where P(B|A) is the probability of testing positive given that the person has the disease, P(A) is the prior probability of the person having the disease, and P(B) is the\n",
    " probability of testing positive for the disease\n",
    "Using the information given in the problem, we can calculate these probabilities as follows:\n",
    "P(B|A) = 1 - 0.10 = 0.90 (the probability of testing positive given that the person has the disease is 90%) P(A) = 0.01 \n",
    "(the prior probability of the person having the disease is 1%) P(B) = P(B|A) * P(A) + P(B|not A) * P(not A) = 0.90 * 0.01 + 0.05 * 0.99 \n",
    "(the probability of testing positive is the sum of the probability of a true positive and a false positive) Plugging these values into the Bayes' theorem formula, we get:\n",
    "\n",
    "P(A|B) = 0.90 * 0.01 / (0.90 * 0.01 + 0.05 * 0.99)\n",
    "\n",
    "= 0.15\n",
    "\n",
    "Therefore, the probability that the person actually has the disease given a positive test result is 15%. \n",
    "This means that the test is not very accurate, and there is still a high chance of a false positive result."
   ]
  },
  {
   "cell_type": "markdown",
   "metadata": {},
   "source": [
    "### Q7-Calculate the 95% confidence interval for a sample of data with a mean of 50 and a standard deviation of 5. Interpret the results.\n",
    " \n",
    " For a sample of 50 standarad deviation of 5 \n",
    " Confidence interval = sample mean ± (z-score * standard error)\n",
    " Standard error = 5 / sqrt(30) = 0.91\n",
    " Confidence interval = 50 ± (1.96 * 0.91)\n",
    "=47.23 to 52.77"
   ]
  },
  {
   "cell_type": "markdown",
   "metadata": {},
   "source": [
    "### Q8-What is the margin of error in a confidence interval? How does sample size affect the margin of error?Provide an example of a scenario where a ### larger sample size would result in a smaller margin of error.\n",
    "\n",
    "The margin of error in a confidence interval is the range of values around the sample estimate that we are confident contains the true population value. It represents the amount of uncertainty in our estimate due to sampling error.\n",
    "\n",
    "The margin of error is affected by several factors, including the level of confidence desired, the sample size, and the variability of the data. In general, a larger sample size results in a smaller margin of error, all else being equal. This is because a larger sample size reduces the effect of random sampling error, and thus increases the precision of the estimate.\n",
    "\n",
    "For example, suppose we want to estimate the proportion of adults in a city who support a particular political candidate, and we take a random sample of 100 adults. The sample proportion is 0.6, which means that 60% of the sample supports the candidate. We want to construct a 95% confidence interval for the true population proportion.\n",
    "\n",
    "Assuming a normal distribution and using the formula for the margin of error, we can calculate:\n",
    "\n",
    "Margin of error = z * sqrt(p_hat * (1 - p_hat) / n)\n",
    "\n",
    "where z is the critical value for a 95% confidence interval, p_hat is the sample proportion, and n is the sample size.\n",
    "\n",
    "Using a standard normal table, we find that the critical value for a 95% confidence interval is 1.96. Plugging in the values, we get:\n",
    "\n",
    "Margin of error = 1.96 * sqrt(0.6 * 0.4 / 100)\n",
    "\n",
    "= 0.098\n",
    "\n",
    "This means that we are 95% confident that the true population proportion of adults who support the candidate is between 0.502 and 0.698 (0.6 ± 0.098).\n",
    "\n",
    "Now, suppose we increase the sample size to 400. Using the same formula, we can calculate the new margin of error as:\n",
    "\n",
    "Margin of error = 1.96 * sqrt(0.6 * 0.4 / 400)\n",
    "\n",
    "= 0.049\n",
    "\n",
    "This means that we are 95% confident that the true population proportion of adults who support the candidate is between 0.551 and 0.649 (0.6 ± 0.049).\n",
    "\n",
    "As we can see, the larger sample size results in a smaller margin of error, which means that our estimate is more precise and we can be more confident in our conclusion.\n"
   ]
  },
  {
   "cell_type": "markdown",
   "metadata": {},
   "source": [
    "### Q9. Calculate the z-score for a data point with a value of 75, a population mean of 70, and a population standard deviation of 5. Interpret the results.\n",
    "To calculate the z-score for a data point with a value of 75, a population mean of 70, and a population standard deviation of 5, we use the formula:\n",
    "\n",
    "z = (x - μ) / σ\n",
    "\n",
    "where x is the value of the data point, μ is the population mean, and σ is the population standard deviation.\n",
    "\n",
    "Plugging in the values, we get:\n",
    "\n",
    "z = (75 - 70) / 5\n",
    "\n",
    "z = 1\n",
    "\n",
    "This means that the data point of 75 is 1 standard deviation above the population mean. The z-score tells us how many standard deviations a data point is from the population mean. In this case, the z-score of 1 indicates that the data point is one standard deviation above the mean.\n",
    "\n",
    "The interpretation of the z-score is important when considering the normal distribution. In a normal distribution, a z-score of 0 means the data point is at the mean, a z-score of 1 means the data point is one standard deviation above the mean, and a z-score of -1 means the data point is one standard deviation below the mean."
   ]
  },
  {
   "cell_type": "markdown",
   "metadata": {},
   "source": [
    "### Q10. In a study of the effectiveness of a new weight loss drug, a sample of 50 participants lost an average of 6 pounds with a standard deviation of 2.5 pounds. Conduct a hypothesis test to determine if the drug is significantly effective at a 95% confidence level using a t-test.To conduct a hypothesis test to determine if the weight loss drug is significantly effective at a 95% confidence level using a t-test, we need to state our null and alternative hypotheses:\n",
    "\n",
    "Null hypothesis: The average weight loss for participants taking the new drug is not significantly different from 0. Alternative hypothesis: The average weight loss for participants taking the new drug is significantly greater than 0. We will use a one-sample t-test, since we are comparing the mean weight loss of the sample to a hypothesized population mean of 0.\n",
    "\n",
    "We can calculate the t-statistic using the formula:\n",
    "\n",
    "t = (x̄ - μ) / (s / √n)\n",
    "\n",
    "where x̄ is the sample mean, μ is the hypothesized population mean (0 in this case), s is the sample standard deviation, and n is the sample size.\n",
    "\n",
    "Plugging in the values, we get:\n",
    "\n",
    "t = (6 - 0) / (2.5 / √50)\n",
    "\n",
    "t = 15.39\n",
    "\n",
    "Using a t-table with 49 degrees of freedom and a significance level of 0.05 (since we want a 95% confidence level), we find the critical t-value to be 1.677. Since our calculated t-value of 15.39 is greater than the critical t-value of 1.677, we can reject the null hypothesis and conclude that the average weight loss for participants taking the new drug is significantly greater than 0 at a 95% confidence level.\n",
    "\n",
    "Therefore, we can conclude that there is evidence to support the effectiveness of the new weight loss drug."
   ]
  },
  {
   "cell_type": "markdown",
   "metadata": {},
   "source": [
    "### Q11. In a survey of 500 people, 65% reported being satisfied with their current job. Calculate the 95% confidence interval for the true proportion of people who are satisfied with their job.To calculate the 95% confidence interval for the true proportion of people who are satisfied with their job, we can use the following formula:\n",
    "\n",
    "CI = p̂ ± z*(√(p̂(1-p̂)/n))\n",
    "\n",
    "where CI is the confidence interval, p̂ is the sample proportion, z* is the critical z-value for the desired confidence level (1.96 for 95% confidence level), and n is the sample size.\n",
    "\n",
    "Plugging in the values, we get:\n",
    "\n",
    "CI = 0.65 ± 1.96*(√((0.65)(1-0.65)/500))\n",
    "\n",
    "CI = 0.65 ± 0.0465\n",
    "\n",
    "The 95% confidence interval for the true proportion of people who are satisfied with their job is (0.6035, 0.6965).\n",
    "\n",
    "Interpretation: We can be 95% confident that the true proportion of people who are satisfied with their job falls between 0.6035 and 0.6965. This means that if we were to repeat this survey many times, 95% of the time the proportion of people satisfied with their job would fall within this interval."
   ]
  },
  {
   "cell_type": "markdown",
   "metadata": {},
   "source": [
    "### Q12. A researcher is testing the effectiveness of two different teaching methods on student performance.Sample A has a mean score of 85 with a standard deviation of 6, while sample B has a mean score of 82 with a standard deviation of 5. Conduct a hypothesis test to determine if the two teaching methods have a significant difference in student performance using a t-test with a significance level of 0.01.\n",
    "To conduct a hypothesis test to determine if there is a significant difference in student performance between the two teaching methods using a t-test, we need to state our null and alternative hypotheses:\n",
    "\n",
    "Null hypothesis: There is no significant difference in student performance between the two teaching methods (μA - μB = 0). Alternative hypothesis: There is a significant difference in student performance between the two teaching methods (μA - μB ≠ 0). We will use a two-sample t-test assuming unequal variances, since the sample standard deviations are different.\n",
    "\n",
    "We can calculate the t-statistic using the formula:\n",
    "\n",
    "t = (x̄A - x̄B - D) / √(sA²/nA + sB²/nB)\n",
    "\n",
    "where x̄A and x̄B are the sample means, sA and sB are the sample standard deviations, nA and nB are the sample sizes, and D is the hypothesized difference in population means (0 in this case).\n",
    "\n",
    "Plugging in the values, we get:\n",
    "\n",
    "t = (85 - 82 - 0) / √((6²/30) + (5²/30))\n",
    "\n",
    "t = 2.02\n",
    "\n",
    "Using a t-table with degrees of freedom (df) equal to the smaller of nA-1 and nB-1 (28 in this case) and a significance level of 0.01, we find the critical t-value to be ±2.763. Since our calculated t-value of 2.02 falls within the range between -2.763 and 2.763, we fail to reject the null hypothesis and conclude that there is no significant difference in student performance between the two teaching methods at a significance level of 0.01.\n",
    "\n",
    "Therefore, we can conclude that there is not enough evidence to suggest that the two teaching methods have significantly different effects on student performance."
   ]
  },
  {
   "cell_type": "markdown",
   "metadata": {},
   "source": [
    "### Q13. A population has a mean of 60 and a standard deviation of 8. A sample of 50 observations has a mean of 65. Calculate the 90% confidence interval for the true population mean.To calculate the 90% confidence interval for the true population mean, we will use the formula:\n",
    "\n",
    "CI = x̄ ± z*(σ/√n)\n",
    "\n",
    "where x̄ is the sample mean, σ is the population standard deviation, n is the sample size, and z is the critical value from the standard normal distribution for the desired level of confidence.\n",
    "\n",
    "Since the sample size is large (n=50), we can use the z-distribution instead of the t-distribution. For a 90% confidence level, the critical value is 1.645.\n",
    "\n",
    "Plugging in the values, we get:\n",
    "\n",
    "CI = 65 ± 1.645*(8/√50)\n",
    "\n",
    "CI = 65 ± 2.34\n",
    "\n",
    "The 90% confidence interval for the true population mean is (62.66, 67.34).\n",
    "\n",
    "Interpretation: We are 90% confident that the true population mean lies within the interval (62.66, 67.34) based on the sample mean of 65 and a sample size of 50."
   ]
  },
  {
   "cell_type": "markdown",
   "metadata": {},
   "source": [
    "### Q14. In a study of the effects of caffeine on reaction time, a sample of 30 participants had an average reaction time of 0.25 seconds with a standard deviation of 0.05 seconds. Conduct a hypothesis test to determine if the caffeine has a significant effect on reaction time at a 90% confidence level using a t-test.To conduct a hypothesis test to determine if caffeine has a significant effect on reaction time, we need to follow the following steps:\n",
    "\n",
    "Step 1: State the null and alternative hypotheses. The null hypothesis is that there is no significant difference in reaction time between participants who consumed caffeine and those who did not consume caffeine. The alternative hypothesis is that there is a significant difference in reaction time between participants who consumed caffeine and those who did not consume caffeine.\n",
    "\n",
    "H0: μ1 = μ2 (there is no significant difference in reaction time between caffeine and non-caffeine groups) Ha: μ1 ≠ μ2 (there is a significant difference in reaction time between caffeine and non-caffeine groups)\n",
    "\n",
    "where μ1 is the population mean reaction time for the caffeine group and μ2 is the population mean reaction time for the non-caffeine group.\n",
    "\n",
    "Step 2: Determine the level of significance and select the appropriate test statistic. The level of significance is 0.10 or 90% confidence level. Since the sample size is small (n < 30), we will use a t-test.\n",
    "\n",
    "Step 3: Calculate the test statistic. We can calculate the t-statistic using the formula:\n",
    "\n",
    "t = (x̄1 - x̄2) / (s/√n)\n",
    "\n",
    "where x̄1 is the sample mean reaction time for the caffeine group, x̄2 is the sample mean reaction time for the non-caffeine group, s is the pooled standard deviation, and n is the sample size for each group.\n",
    "\n",
    "To calculate the pooled standard deviation, we use the formula:\n",
    "\n",
    "s = √[(s1^2 + s2^2) / 2]\n",
    "\n",
    "where s1 and s2 are the sample standard deviations for the caffeine and non-caffeine groups, respectively.\n",
    "\n",
    "Plugging in the values, we get:\n",
    "\n",
    "t = (0.25 - μ2) / (0.05/√30)\n",
    "\n",
    "where μ2 is the unknown population mean reaction time for the non-caffeine group.\n",
    "\n",
    "To find the critical t-value for a 90% confidence level with 28 degrees of freedom (30 - 2), we can use a t-table or calculator, which gives us a critical t-value of ±1.699.\n",
    "\n",
    "Step 4: Determine the p-value and make a decision. Using a t-table or calculator, we find the p-value to be less than 0.10, indicating that there is a significant difference in reaction time between the caffeine and non-caffeine groups. Therefore, we reject the null hypothesis and conclude that caffeine has a significant effect on reaction time at a 90% confidence level.\n",
    "\n",
    "Note: If the p-value is greater than 0.10, we would fail to reject the null hypothesis and conclude that there is no significant difference in reaction time between the caffeine and non-caffeine groups"
   ]
  }
 ],
 "metadata": {
  "kernelspec": {
   "display_name": "Python 3",
   "language": "python",
   "name": "python3"
  },
  "language_info": {
   "name": "python",
   "version": "3.11.4"
  }
 },
 "nbformat": 4,
 "nbformat_minor": 2
}
