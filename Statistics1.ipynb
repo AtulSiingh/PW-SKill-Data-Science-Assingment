{
 "cells": [
  {
   "cell_type": "markdown",
   "metadata": {},
   "source": [
    "Q1. The Probability Density Function (PDF) represents the likelihood of a continuous random variable taking on a particular value. In simpler terms, it describes the probability of a variable falling within a specific range.\n",
    "\n",
    "Q2. There are several types of probability distributions. Two broad categories are discrete probability distributions (e.g., binomial, Poisson) and continuous probability distributions (e.g., normal, exponential)\n",
    "."
   ]
  },
  {
   "cell_type": "code",
   "execution_count": 2,
   "metadata": {},
   "outputs": [],
   "source": [
    "import numpy as np\n",
    "import scipy.stats as stats\n",
    "\n",
    "def normal_pdf(x, mean, std_dev):\n",
    "    return stats.norm.pdf(x, mean, std_dev)\n"
   ]
  },
  {
   "cell_type": "markdown",
   "metadata": {},
   "source": [
    "Q4. Binomial distribution properties include:\n",
    "\n",
    "Fixed number of trials (n)\n",
    "Each trial has two outcomes (success or failure)\n",
    "Probability of success (p) is constant\n",
    "Trials are independent\n",
    "Examples:\n",
    "\n",
    "Tossing a fair coin multiple times (success = heads, failure = tails)\n",
    "Testing a new drug where each patient either responds positively or negatively."
   ]
  },
  {
   "cell_type": "code",
   "execution_count": 4,
   "metadata": {},
   "outputs": [
    {
     "data": {
      "image/png": "[encoded data removed]",
      "text/plain": [
       "<Figure size 640x480 with 1 Axes>"
      ]
     },
     "metadata": {},
     "output_type": "display_data"
    }
   ],
   "source": [
    "import numpy as np\n",
    "import matplotlib.pyplot as plt\n",
    "\n",
    "sample_size = 1000\n",
    "probability_of_success = 0.4\n",
    "\n",
    "random_sample = np.random.binomial(1, probability_of_success, sample_size)\n",
    "plt.hist(random_sample, bins=[0, 1, 2], align='left', edgecolor='black')\n",
    "plt.xlabel('Outcome')\n",
    "plt.ylabel('Frequency')\n",
    "plt.show()\n"
   ]
  },
  {
   "cell_type": "code",
   "execution_count": 5,
   "metadata": {},
   "outputs": [],
   "source": [
    "# Q6. Python function for the cumulative distribution function (CDF) of a Poisson distribution:\n",
    "\n",
    "def poisson_cdf(x, mean):\n",
    "    return stats.poisson.cdf(x, mean)"
   ]
  },
  {
   "cell_type": "markdown",
   "metadata": {},
   "source": [
    "Q7. The main difference between Binomial and Poisson distributions lies in the nature of the events. Binomial is used for a fixed number of trials with a constant probability of success, while Poisson is used for events that occur independently over time or space.\n",
    "\n"
   ]
  },
  {
   "cell_type": "markdown",
   "metadata": {},
   "source": [
    "Q8. To generate a random sample from a Poisson distribution with mean 5 and calculate sample mean and variance:"
   ]
  },
  {
   "cell_type": "code",
   "execution_count": 6,
   "metadata": {},
   "outputs": [],
   "source": [
    "poisson_sample = np.random.poisson(5, 1000)\n",
    "sample_mean = np.mean(poisson_sample)\n",
    "sample_variance = np.var(poisson_sample)\n"
   ]
  },
  {
   "cell_type": "markdown",
   "metadata": {},
   "source": [
    "Q9. In both Binomial and Poisson distributions:\n",
    "\n",
    "Mean (μ) = n * p\n",
    "Variance (σ^2) = n * p * (1 - p) for Binomial\n",
    "Variance (σ^2) = mean for Poisson\n",
    "Q10. In a normal distribution, the least frequent data appears in the tails, far from the mean position. The extremes (both lower and upper tails) represent the least probable values."
   ]
  },
  {
   "cell_type": "markdown",
   "metadata": {},
   "source": [
    "Q10. In a normal distribution, the least frequent data appears in the tails, far from the mean position. The extremes (both lower and upper tails) represent the least probable values."
   ]
  }
 ],
 "metadata": {
  "kernelspec": {
   "display_name": "Python 3",
   "language": "python",
   "name": "python3"
  },
  "language_info": {
   "codemirror_mode": {
    "name": "ipython",
    "version": 3
   },
   "file_extension": ".py",
   "mimetype": "text/x-python",
   "name": "python",
   "nbconvert_exporter": "python",
   "pygments_lexer": "ipython3",
   "version": "3.11.4"
  }
 },
 "nbformat": 4,
 "nbformat_minor": 2
}
