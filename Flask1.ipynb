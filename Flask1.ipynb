{
 "cells": [
  {
   "cell_type": "markdown",
   "metadata": {},
   "source": [
    "Q1. What is Flask Framework? What are the advantages of Flask Framework?\n",
    "\n",
    "Flask is a micro web framework for Python. It is designed to be lightweight, simple, and easy to use, making it an excellent choice for building small to medium-sized web applications and APIs. Flask provides the essentials for building web applications without imposing too many constraints or pre-determined structures.\n",
    "\n",
    "Advantages of Flask Framework:\n",
    "\n",
    "Lightweight: Flask is minimalistic and doesn't impose unnecessary dependencies or features.\n",
    "Flexibility: It allows developers to choose components based on their needs, making it versatile.\n",
    "Easy to Learn: Flask's simplicity and clear documentation make it easy for beginners to learn.\n",
    "Extensible: You can add various extensions to enhance Flask's functionality.\n",
    "Modular: Flask encourages modular code, enabling better organization and maintainability.\n",
    "Widely Used: Flask has a large and active community, resulting in extensive support and resources.\n",
    "Web Development: Well-suited for web development and building RESTful APIs.\n",
    "Testing: Flask provides tools for unit testing and integration testing.\n",
    "Built-in Development Server: Comes with a built-in development server for testing locally."
   ]
  },
  {
   "cell_type": "code",
   "execution_count": null,
   "metadata": {},
   "outputs": [],
   "source": [
    "# Q2:\n",
    "from flask import Flask\n",
    "\n",
    "app = Flask(__name__)\n",
    "\n",
    "@app.route('/')\n",
    "def hello_world():\n",
    "    return 'Hello World!!'\n",
    "\n",
    "if __name__ == '__main__':\n",
    "    app.run()\n"
   ]
  },
  {
   "cell_type": "markdown",
   "metadata": {},
   "source": [
    "Q3. What is App routing in Flask? Why do we use app routes?\n",
    "\n",
    "App routing in Flask refers to the process of defining URL paths and associating them with specific functions or views. It's done using the @app.route() decorator. Routes define the paths that users can visit in the application, and each route is associated with a function that returns the content to be displayed on that path.\n",
    "\n",
    "We use app routes to map URL paths to specific functions in the application. This allows the application to respond to different URLs with different content or functionality. For example, you can have routes for different pages like home, about, contact, etc. App routing is essential for building the structure and navigation of web applications"
   ]
  },
  {
   "cell_type": "code",
   "execution_count": null,
   "metadata": {},
   "outputs": [],
   "source": [
    "# Q4-\n",
    "from flask import Flask\n",
    "\n",
    "app = Flask(__name__)\n",
    "\n",
    "@app.route('/')\n",
    "def index():\n",
    "    return \"Company Name: ABC Corporation<br>Location: India<br>Contact Detail: 999-999-9999\"\n",
    "\n",
    "@app.route('/welcome')\n",
    "def welcome():\n",
    "    return \"Welcome to ABC Corporation\"\n",
    "\n",
    "if __name__ == '__main__':\n",
    "    app.run()\n"
   ]
  },
  {
   "cell_type": "code",
   "execution_count": 1,
   "metadata": {},
   "outputs": [
    {
     "name": "stdout",
     "output_type": "stream",
     "text": [
      "URL for Home: /\n",
      "URL for About: /about\n",
      "URL for Contact: /contact\n"
     ]
    }
   ],
   "source": [
    "# Q5-\n",
    "# The url_for() function in Flask is used to build URLs for routes based on the endpoint name. It takes the endpoint name as an argument and returns the URL for that endpoint.\n",
    "\n",
    "# Here's an example code demonstrating the usage of url_for():\n",
    "from flask import Flask, url_for\n",
    "\n",
    "app = Flask(__name__)\n",
    "\n",
    "@app.route('/')\n",
    "def home():\n",
    "    return \"Home Page\"\n",
    "\n",
    "@app.route('/about')\n",
    "def about():\n",
    "    return \"About Page\"\n",
    "\n",
    "@app.route('/contact')\n",
    "def contact():\n",
    "    return \"Contact Page\"\n",
    "\n",
    "if __name__ == '__main__':\n",
    "    with app.test_request_context():\n",
    "        print(\"URL for Home:\", url_for('home'))\n",
    "        print(\"URL for About:\", url_for('about'))\n",
    "        print(\"URL for Contact:\", url_for('contact'))\n"
   ]
  }
 ],
 "metadata": {
  "kernelspec": {
   "display_name": "Python 3",
   "language": "python",
   "name": "python3"
  },
  "language_info": {
   "codemirror_mode": {
    "name": "ipython",
    "version": 3
   },
   "file_extension": ".py",
   "mimetype": "text/x-python",
   "name": "python",
   "nbconvert_exporter": "python",
   "pygments_lexer": "ipython3",
   "version": "3.11.4"
  },
  "orig_nbformat": 4
 },
 "nbformat": 4,
 "nbformat_minor": 2
}
